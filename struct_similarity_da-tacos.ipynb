{
 "cells": [
  {
   "cell_type": "markdown",
   "metadata": {},
   "source": [
    "Library Importing"
   ]
  },
  {
   "cell_type": "code",
   "execution_count": null,
   "metadata": {},
   "outputs": [],
   "source": [
    "import numpy as np\n",
    "import scipy\n",
    "import cv2\n",
    "from seaborn import clustermap\n",
    "import sklearn\n",
    "import librosa\n",
    "import glob\n",
    "import os\n",
    "import random\n",
    "import json\n",
    "import deepdish as dd\n",
    "import matplotlib.pyplot as plt\n",
    "%matplotlib inline"
   ]
  },
  {
   "cell_type": "markdown",
   "metadata": {},
   "source": [
    "Compute downsampled Laplacian from Work and Performance name."
   ]
  },
  {
   "cell_type": "code",
   "execution_count": null,
   "metadata": {},
   "outputs": [],
   "source": [
    "def compute_resampled_laplacian(W, P):\n",
    "    "
   ]
  },
  {
   "cell_type": "markdown",
   "metadata": {},
   "source": [
    "Compute Shape DNA from Laplacian."
   ]
  },
  {
   "cell_type": "code",
   "execution_count": null,
   "metadata": {},
   "outputs": [],
   "source": [
    "def compute_eigenvalues(L):\n",
    "    "
   ]
  },
  {
   "cell_type": "markdown",
   "metadata": {},
   "source": [
    "Compute set of multiple spectral clustering components of Laplacian."
   ]
  },
  {
   "cell_type": "code",
   "execution_count": null,
   "metadata": {},
   "outputs": [],
   "source": [
    "def compute_clustering_set(L):\n",
    "    "
   ]
  },
  {
   "cell_type": "markdown",
   "metadata": {},
   "source": [
    "Create dictionary with Shape DNAs and sets of multiple spectral clustering components of Laplacian from works with at least one performance."
   ]
  },
  {
   "cell_type": "code",
   "execution_count": null,
   "metadata": {},
   "outputs": [],
   "source": [
    "with open('./da-tacos_metadata/da-tacos_benchmark_subset_metadata.json') as f:\n",
    "    benchmark_metadata = json.load(f)\n",
    "\n",
    "dict = {}\n",
    "\n",
    "for W in benchmark_metadata.keys():\n",
    "    if len(benchmark_metadata[W].keys()) > 1:\n",
    "        W_dict = {}\n",
    "        for P in benchmark_metadata[W].keys():\n",
    "            #Computations\n",
    "            L_rs = compute_resampled_laplacian(W, P)\n",
    "            shapeDNA = compute_eigenvalues(L_rs)\n",
    "            L_set = compute_clustering_set(L_rs)\n",
    "            \n",
    "            #W Dictionary entry for P\n",
    "            W_dict[P] = [shapeDNA, L_set]\n",
    "        dict[W] = W_dict\n",
    "        "
   ]
  }
 ],
 "metadata": {
  "kernelspec": {
   "display_name": "Python 3",
   "language": "python",
   "name": "python3"
  },
  "language_info": {
   "codemirror_mode": {
    "name": "ipython",
    "version": 3
   },
   "file_extension": ".py",
   "mimetype": "text/x-python",
   "name": "python",
   "nbconvert_exporter": "python",
   "pygments_lexer": "ipython3",
   "version": "3.7.6"
  }
 },
 "nbformat": 4,
 "nbformat_minor": 4
}
