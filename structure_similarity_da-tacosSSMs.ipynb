{
 "cells": [
  {
   "cell_type": "markdown",
   "metadata": {},
   "source": [
    "## Read from Da-TACOS feature-fused SSMs and compute shape DNA and hierarchical structure decomposition"
   ]
  },
  {
   "cell_type": "markdown",
   "metadata": {},
   "source": [
    "### Library importing"
   ]
  },
  {
   "cell_type": "code",
   "execution_count": 11,
   "metadata": {},
   "outputs": [],
   "source": [
    "import numpy as np\n",
    "from scipy.spatial.distance import pdist, squareform\n",
    "from scipy.interpolate import interp2d\n",
    "from scipy.sparse.csgraph import laplacian\n",
    "from scipy.spatial.distance import directed_hausdorff\n",
    "from scipy.cluster import hierarchy\n",
    "from scipy.linalg import eigh\n",
    "from scipy.ndimage import median_filter\n",
    "import cv2\n",
    "from seaborn import clustermap\n",
    "import sklearn\n",
    "import librosa\n",
    "import glob\n",
    "import os\n",
    "import random\n",
    "import json\n",
    "import deepdish as dd\n",
    "import matplotlib.pyplot as plt\n",
    "%matplotlib inline"
   ]
  },
  {
   "cell_type": "markdown",
   "metadata": {},
   "source": [
    "### Reading and computing structure"
   ]
  },
  {
   "cell_type": "code",
   "execution_count": 18,
   "metadata": {
    "tags": [
     "outputPrepend",
     "outputPrepend",
     "outputPrepend",
     "outputPrepend",
     "outputPrepend",
     "outputPrepend",
     "outputPrepend",
     "outputPrepend",
     "outputPrepend",
     "outputPrepend",
     "outputPrepend",
     "outputPrepend"
    ]
   },
   "outputs": [],
   "source": [
    "with open('./da-tacos_metadata/da-tacos_benchmark_subset_metadata.json') as f:\n",
    "    benchmark_metadata = json.load(f)\n",
    "\n",
    "count=0\n",
    "#dict = {} #everything stored here keeping W,P hierarchy, as [shapeDNA, dist_set]\n",
    "all_shapeDNA = []\n",
    "all_distset = []\n",
    "for W in benchmark_metadata.keys():\n",
    "    #W_dict = {}\n",
    "    W_list = []\n",
    "    y = []\n",
    "    for P in benchmark_metadata[W].keys():\n",
    "        #Computations\n",
    "        try:\n",
    "            SSM = dd.io.load(\"./da-tacosSSMs/StructureLaplacian_datacos_crema_\" + P + \".h5\")['WFused']\n",
    "        except:\n",
    "            continue\n",
    "        else:\n",
    "            N = dd.io.load(\"./da-tacosSSMs/StructureLaplacian_datacos_crema_\" + P + \".h5\")['N']\n",
    "\n",
    "            #Construct square matrix from flattened upper triangle\n",
    "            A = np.zeros((N,N))\n",
    "            iN = np.triu_indices(N) #return indices for upper-triangle of (N,N) matrix\n",
    "            for i in range(len(SSM)):\n",
    "                A[iN[0][i]][iN[1][i]] = SSM[i]\n",
    "            B = np.transpose(A)\n",
    "            square_SSM = A+B\n",
    "\n",
    "            #Downsample to 256X256   \n",
    "            Xindex = np.linspace(0, 1, num=N)\n",
    "            f = interp2d(Xindex, Xindex, square_SSM.flatten(), kind='linear')\n",
    "            Xindex_ds = np.linspace(0, 1, num=256)\n",
    "            SSM_ds = np.reshape(f(Xindex_ds, Xindex_ds), (256,256))\n",
    "            \n",
    "            #Compute the Laplacian\n",
    "            L = laplacian(SSM_ds, normed=True)\n",
    "            \n",
    "            #Laplacian eigenvalues and eigenvectors\n",
    "            evals, evecs = eigh(L)\n",
    "            \n",
    "            #Shape DNA\n",
    "            shapeDNA = evals[:30]\n",
    "            \n",
    "            #Hierarchical structure\n",
    "            evecs = median_filter(evecs, size=(9, 1))\n",
    "            Cnorm = np.cumsum(evecs**2, axis=1)**0.5\n",
    "            dist_set = []\n",
    "            for k in range(2, 10): #change range here (min value 2)\n",
    "                X = evecs[:, :k] / Cnorm[:, k-1:k]\n",
    "                distance = squareform(pdist(X, metric='euclidean'))\n",
    "                dist_set.append(distance)\n",
    "            \n",
    "            #W_dict[P] = [shapeDNA, dist_set]\n",
    "            all_shapeDNA.append(shapeDNA)\n",
    "            all_distset.append(dist_set)\n",
    "            y.append(W)\n",
    "            \n",
    "            #plt.matshow()\n",
    "            #plt.colorbar()\n",
    "            #plt.show()\n",
    "            \n",
    "            count+=1       \n",
    "    #dict[W] = W_dict \n",
    "    \n",
    "    if (count >= 100):\n",
    "        break"
   ]
  }
 ],
 "metadata": {
  "kernelspec": {
   "display_name": "Python 3",
   "language": "python",
   "name": "python3"
  }
 },
 "nbformat": 4,
 "nbformat_minor": 2
}
