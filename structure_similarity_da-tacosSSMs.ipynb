{
 "cells": [
  {
   "cell_type": "markdown",
   "metadata": {},
   "source": [
    "## Read from Da-TACOS feature-fused SSMs and compute shape DNA and hierarchical structure decomposition"
   ]
  },
  {
   "cell_type": "markdown",
   "metadata": {},
   "source": [
    "### Library importing"
   ]
  },
  {
   "cell_type": "code",
   "execution_count": 11,
   "metadata": {},
   "outputs": [],
   "source": [
    "import numpy as np\n",
    "from scipy.spatial.distance import pdist, squareform\n",
    "from scipy.interpolate import interp2d\n",
    "from scipy.sparse.csgraph import laplacian\n",
    "from scipy.spatial.distance import directed_hausdorff\n",
    "from scipy.cluster import hierarchy\n",
    "from scipy.linalg import eigh\n",
    "from scipy.ndimage import median_filter\n",
    "import cv2\n",
    "from seaborn import clustermap\n",
    "import sklearn\n",
    "import librosa\n",
    "import glob\n",
    "import os\n",
    "import random\n",
    "import json\n",
    "import deepdish as dd\n",
    "import matplotlib.pyplot as plt\n",
    "%matplotlib inline"
   ]
  },
  {
   "cell_type": "markdown",
   "metadata": {},
   "source": [
    "### Reading and computing structure"
   ]
  },
  {
   "cell_type": "code",
   "execution_count": 37,
   "metadata": {
    "tags": [
     "outputPrepend",
     "outputPrepend",
     "outputPrepend",
     "outputPrepend",
     "outputPrepend",
     "outputPrepend",
     "outputPrepend",
     "outputPrepend",
     "outputPrepend",
     "outputPrepend",
     "outputPrepend",
     "outputPrepend"
    ]
   },
   "outputs": [],
   "source": [
    "with open('./da-tacos_metadata/da-tacos_benchmark_subset_metadata.json') as f:\n",
    "    benchmark_metadata = json.load(f)\n",
    "\n",
    "count=0\n",
    "#dict = {} #everything stored here keeping W,P hierarchy, as [shapeDNA, dist_set]\n",
    "all_shapeDNA = []\n",
    "all_distset = []\n",
    "y = []\n",
    "for W in benchmark_metadata.keys():\n",
    "    #W_dict = {}\n",
    "    if len(benchmark_metadata[W].keys()) > 4:\n",
    "        for P in benchmark_metadata[W].keys():\n",
    "            #Computations\n",
    "            try:\n",
    "                SSM = dd.io.load(\"./da-tacosSSMs/StructureLaplacian_datacos_crema_\" + P + \".h5\")['WFused']\n",
    "            except:\n",
    "                continue\n",
    "            else:\n",
    "                N = dd.io.load(\"./da-tacosSSMs/StructureLaplacian_datacos_crema_\" + P + \".h5\")['N']\n",
    "\n",
    "                #Construct square matrix from flattened upper triangle\n",
    "                A = np.zeros((N,N))\n",
    "                iN = np.triu_indices(N) #return indices for upper-triangle of (N,N) matrix\n",
    "                for i in range(len(SSM)):\n",
    "                    A[iN[0][i]][iN[1][i]] = SSM[i]\n",
    "                B = np.transpose(A)\n",
    "                square_SSM = A+B\n",
    "\n",
    "                #Downsample to 256X256   \n",
    "                Xindex = np.linspace(0, 1, num=N)\n",
    "                f = interp2d(Xindex, Xindex, square_SSM.flatten(), kind='linear')\n",
    "                Xindex_ds = np.linspace(0, 1, num=256)\n",
    "                SSM_ds = np.reshape(f(Xindex_ds, Xindex_ds), (256,256))\n",
    "\n",
    "                #Compute the Laplacian\n",
    "                L = laplacian(SSM_ds, normed=True)\n",
    "\n",
    "                #Laplacian eigenvalues and eigenvectors\n",
    "                evals, evecs = eigh(L)\n",
    "\n",
    "                #Shape DNA\n",
    "                shapeDNA = evals[:30]\n",
    "\n",
    "                #Hierarchical structure\n",
    "                evecs = median_filter(evecs, size=(9, 1))\n",
    "                Cnorm = np.cumsum(evecs**2, axis=1)**0.5\n",
    "                dist_set = []\n",
    "                for k in range(2, 10): #change range here (min value 2)\n",
    "                    X = evecs[:, :k] / Cnorm[:, k-1:k]\n",
    "                    distance = squareform(pdist(X, metric='euclidean'))\n",
    "                    dist_set.append(distance)\n",
    "\n",
    "                #W_dict[P] = [shapeDNA, dist_set]\n",
    "                all_shapeDNA.append(shapeDNA)\n",
    "                all_distset.append(dist_set)\n",
    "                y.append(W)\n",
    "\n",
    "                #plt.matshow()\n",
    "                #plt.colorbar()\n",
    "                #plt.show()\n",
    "\n",
    "        count+=1       \n",
    "        #dict[W] = W_dict \n",
    "\n",
    "        if (count >= 10):\n",
    "            break"
   ]
  },
  {
   "cell_type": "markdown",
   "metadata": {},
   "source": [
    "### Shape DNA"
   ]
  },
  {
   "cell_type": "code",
   "execution_count": 38,
   "metadata": {},
   "outputs": [],
   "source": [
    "from sklearn.manifold import TSNE\n",
    "X2 = TSNE(n_components=2).fit_transform(all_shapeDNA)"
   ]
  },
  {
   "cell_type": "code",
   "execution_count": 39,
   "metadata": {},
   "outputs": [
    {
     "name": "stdout",
     "output_type": "stream",
     "text": [
      "130\n",
      "130\n",
      "['W_3964', 'W_3964', 'W_3964', 'W_3964', 'W_3964', 'W_3964', 'W_3964', 'W_3964', 'W_3964', 'W_3964', 'W_3964', 'W_3964', 'W_3964', 'W_144354', 'W_144354', 'W_144354', 'W_144354', 'W_144354', 'W_144354', 'W_144354', 'W_144354', 'W_144354', 'W_144354', 'W_144354', 'W_144354', 'W_144354', 'W_8339', 'W_8339', 'W_8339', 'W_8339', 'W_8339', 'W_8339', 'W_8339', 'W_8339', 'W_8339', 'W_8339', 'W_8339', 'W_8339', 'W_8339', 'W_12542', 'W_12542', 'W_12542', 'W_12542', 'W_12542', 'W_12542', 'W_12542', 'W_12542', 'W_12542', 'W_12542', 'W_12542', 'W_12542', 'W_12542', 'W_6163', 'W_6163', 'W_6163', 'W_6163', 'W_6163', 'W_6163', 'W_6163', 'W_6163', 'W_6163', 'W_6163', 'W_6163', 'W_6163', 'W_6163', 'W_6753', 'W_6753', 'W_6753', 'W_6753', 'W_6753', 'W_6753', 'W_6753', 'W_6753', 'W_6753', 'W_6753', 'W_6753', 'W_6753', 'W_6753', 'W_112640', 'W_112640', 'W_112640', 'W_112640', 'W_112640', 'W_112640', 'W_112640', 'W_112640', 'W_112640', 'W_112640', 'W_112640', 'W_112640', 'W_112640', 'W_113724', 'W_113724', 'W_113724', 'W_113724', 'W_113724', 'W_113724', 'W_113724', 'W_113724', 'W_113724', 'W_113724', 'W_113724', 'W_113724', 'W_113724', 'W_132900', 'W_132900', 'W_132900', 'W_132900', 'W_132900', 'W_132900', 'W_132900', 'W_132900', 'W_132900', 'W_132900', 'W_132900', 'W_132900', 'W_132900', 'W_145365', 'W_145365', 'W_145365', 'W_145365', 'W_145365', 'W_145365', 'W_145365', 'W_145365', 'W_145365', 'W_145365', 'W_145365', 'W_145365', 'W_145365']\n"
     ]
    },
    {
     "data": {
      "text/html": [
       "\n",
       "<div id=\"altair-viz-059252990814401fabe4965d4d164a1d\"></div>\n",
       "<script type=\"text/javascript\">\n",
       "  (function(spec, embedOpt){\n",
       "    let outputDiv = document.currentScript.previousElementSibling;\n",
       "    if (outputDiv.id !== \"altair-viz-059252990814401fabe4965d4d164a1d\") {\n",
       "      outputDiv = document.getElementById(\"altair-viz-059252990814401fabe4965d4d164a1d\");\n",
       "    }\n",
       "    const paths = {\n",
       "      \"vega\": \"https://cdn.jsdelivr.net/npm//vega@5?noext\",\n",
       "      \"vega-lib\": \"https://cdn.jsdelivr.net/npm//vega-lib?noext\",\n",
       "      \"vega-lite\": \"https://cdn.jsdelivr.net/npm//vega-lite@4.8.1?noext\",\n",
       "      \"vega-embed\": \"https://cdn.jsdelivr.net/npm//vega-embed@6?noext\",\n",
       "    };\n",
       "\n",
       "    function loadScript(lib) {\n",
       "      return new Promise(function(resolve, reject) {\n",
       "        var s = document.createElement('script');\n",
       "        s.src = paths[lib];\n",
       "        s.async = true;\n",
       "        s.onload = () => resolve(paths[lib]);\n",
       "        s.onerror = () => reject(`Error loading script: ${paths[lib]}`);\n",
       "        document.getElementsByTagName(\"head\")[0].appendChild(s);\n",
       "      });\n",
       "    }\n",
       "\n",
       "    function showError(err) {\n",
       "      outputDiv.innerHTML = `<div class=\"error\" style=\"color:red;\">${err}</div>`;\n",
       "      throw err;\n",
       "    }\n",
       "\n",
       "    function displayChart(vegaEmbed) {\n",
       "      vegaEmbed(outputDiv, spec, embedOpt)\n",
       "        .catch(err => showError(`Javascript Error: ${err.message}<br>This usually means there's a typo in your chart specification. See the javascript console for the full traceback.`));\n",
       "    }\n",
       "\n",
       "    if(typeof define === \"function\" && define.amd) {\n",
       "      requirejs.config({paths});\n",
       "      require([\"vega-embed\"], displayChart, err => showError(`Error loading script: ${err.message}`));\n",
       "    } else if (typeof vegaEmbed === \"function\") {\n",
       "      displayChart(vegaEmbed);\n",
       "    } else {\n",
       "      loadScript(\"vega\")\n",
       "        .then(() => loadScript(\"vega-lite\"))\n",
       "        .then(() => loadScript(\"vega-embed\"))\n",
       "        .catch(showError)\n",
       "        .then(() => displayChart(vegaEmbed));\n",
       "    }\n",
       "  })({\"config\": {\"view\": {\"continuousWidth\": 400, \"continuousHeight\": 300}}, \"data\": {\"name\": \"data-aa1893401f4efb99a1f7f6e754a876c9\"}, \"mark\": {\"type\": \"circle\", \"opacity\": 0.6, \"size\": 60}, \"encoding\": {\"color\": {\"type\": \"nominal\", \"field\": \"Locations\"}, \"x\": {\"type\": \"quantitative\", \"field\": \"x\"}, \"y\": {\"type\": \"quantitative\", \"field\": \"y\"}}, \"selection\": {\"selector002\": {\"type\": \"interval\", \"bind\": \"scales\", \"encodings\": [\"x\", \"y\"]}}, \"$schema\": \"https://vega.github.io/schema/vega-lite/v4.8.1.json\", \"datasets\": {\"data-aa1893401f4efb99a1f7f6e754a876c9\": [{\"x\": -3.1228652000427246, \"y\": -3.8130908012390137, \"Locations\": \"W_3964\"}, {\"x\": 0.32656076550483704, \"y\": 0.6762373447418213, \"Locations\": \"W_3964\"}, {\"x\": -8.915074348449707, \"y\": -4.861231327056885, \"Locations\": \"W_3964\"}, {\"x\": -0.4215540289878845, \"y\": 2.373854875564575, \"Locations\": \"W_3964\"}, {\"x\": 2.887924909591675, \"y\": 0.9240105748176575, \"Locations\": \"W_3964\"}, {\"x\": 3.4680981636047363, \"y\": 2.1151280403137207, \"Locations\": \"W_3964\"}, {\"x\": -5.236142635345459, \"y\": -4.4870524406433105, \"Locations\": \"W_3964\"}, {\"x\": -4.208379745483398, \"y\": 0.2823050916194916, \"Locations\": \"W_3964\"}, {\"x\": 3.0418033599853516, \"y\": 2.4761087894439697, \"Locations\": \"W_3964\"}, {\"x\": -0.9486196041107178, \"y\": -0.32053107023239136, \"Locations\": \"W_3964\"}, {\"x\": -8.825182914733887, \"y\": -4.612220287322998, \"Locations\": \"W_3964\"}, {\"x\": -6.795491695404053, \"y\": -5.056774616241455, \"Locations\": \"W_3964\"}, {\"x\": 6.3520660400390625, \"y\": 7.998254776000977, \"Locations\": \"W_3964\"}, {\"x\": -2.8436875343322754, \"y\": -2.9262008666992188, \"Locations\": \"W_144354\"}, {\"x\": -6.1703901290893555, \"y\": -2.709904909133911, \"Locations\": \"W_144354\"}, {\"x\": -6.701642990112305, \"y\": -1.5705183744430542, \"Locations\": \"W_144354\"}, {\"x\": 2.6446373462677, \"y\": 4.95863676071167, \"Locations\": \"W_144354\"}, {\"x\": -1.7727419137954712, \"y\": 3.1403276920318604, \"Locations\": \"W_144354\"}, {\"x\": -2.572476387023926, \"y\": -0.9124494194984436, \"Locations\": \"W_144354\"}, {\"x\": -3.708411931991577, \"y\": -1.4185563325881958, \"Locations\": \"W_144354\"}, {\"x\": -2.0580685138702393, \"y\": 1.969559907913208, \"Locations\": \"W_144354\"}, {\"x\": -0.6571610569953918, \"y\": 0.12326546758413315, \"Locations\": \"W_144354\"}, {\"x\": -2.3723490238189697, \"y\": -0.32178163528442383, \"Locations\": \"W_144354\"}, {\"x\": -8.55342960357666, \"y\": -3.433279037475586, \"Locations\": \"W_144354\"}, {\"x\": 6.20831298828125, \"y\": 10.03955364227295, \"Locations\": \"W_144354\"}, {\"x\": 4.654229640960693, \"y\": 7.596489429473877, \"Locations\": \"W_144354\"}, {\"x\": 0.4284963607788086, \"y\": -1.9745389223098755, \"Locations\": \"W_8339\"}, {\"x\": -2.55745792388916, \"y\": -2.5932908058166504, \"Locations\": \"W_8339\"}, {\"x\": -4.363888263702393, \"y\": -3.355508327484131, \"Locations\": \"W_8339\"}, {\"x\": -5.074211597442627, \"y\": -3.3506970405578613, \"Locations\": \"W_8339\"}, {\"x\": -2.5516417026519775, \"y\": -3.68503475189209, \"Locations\": \"W_8339\"}, {\"x\": -7.989303112030029, \"y\": -4.2933430671691895, \"Locations\": \"W_8339\"}, {\"x\": 1.7299857139587402, \"y\": -1.802237629890442, \"Locations\": \"W_8339\"}, {\"x\": -5.32742977142334, \"y\": -0.9667902588844299, \"Locations\": \"W_8339\"}, {\"x\": -6.263409614562988, \"y\": -4.826492786407471, \"Locations\": \"W_8339\"}, {\"x\": -2.133340835571289, \"y\": -2.9501383304595947, \"Locations\": \"W_8339\"}, {\"x\": 4.072659015655518, \"y\": 4.743658542633057, \"Locations\": \"W_8339\"}, {\"x\": 1.4459770917892456, \"y\": -1.8726880550384521, \"Locations\": \"W_8339\"}, {\"x\": -4.214148044586182, \"y\": 2.0058934688568115, \"Locations\": \"W_8339\"}, {\"x\": 4.294323444366455, \"y\": 3.9742653369903564, \"Locations\": \"W_12542\"}, {\"x\": 5.3771491050720215, \"y\": 10.22700023651123, \"Locations\": \"W_12542\"}, {\"x\": 4.1525044441223145, \"y\": 6.910015106201172, \"Locations\": \"W_12542\"}, {\"x\": 1.0054292678833008, \"y\": 0.07260429114103317, \"Locations\": \"W_12542\"}, {\"x\": 4.884206771850586, \"y\": 4.978173732757568, \"Locations\": \"W_12542\"}, {\"x\": -0.06074929237365723, \"y\": 3.6346120834350586, \"Locations\": \"W_12542\"}, {\"x\": 5.280793190002441, \"y\": 6.045577526092529, \"Locations\": \"W_12542\"}, {\"x\": 0.15616528689861298, \"y\": -0.2464117854833603, \"Locations\": \"W_12542\"}, {\"x\": 7.148899078369141, \"y\": 10.052154541015625, \"Locations\": \"W_12542\"}, {\"x\": 3.0923540592193604, \"y\": 3.3023276329040527, \"Locations\": \"W_12542\"}, {\"x\": -8.221455574035645, \"y\": -4.981077194213867, \"Locations\": \"W_12542\"}, {\"x\": -8.319417953491211, \"y\": -5.53983211517334, \"Locations\": \"W_12542\"}, {\"x\": 8.380330085754395, \"y\": 9.852192878723145, \"Locations\": \"W_12542\"}, {\"x\": 2.9545528888702393, \"y\": 7.008338928222656, \"Locations\": \"W_6163\"}, {\"x\": 6.887230396270752, \"y\": 8.056753158569336, \"Locations\": \"W_6163\"}, {\"x\": -1.9220554828643799, \"y\": 4.829650402069092, \"Locations\": \"W_6163\"}, {\"x\": -2.4237937927246094, \"y\": 0.6194019913673401, \"Locations\": \"W_6163\"}, {\"x\": 2.689988136291504, \"y\": 7.506200790405273, \"Locations\": \"W_6163\"}, {\"x\": 0.6554075479507446, \"y\": 4.610317230224609, \"Locations\": \"W_6163\"}, {\"x\": -3.04718279838562, \"y\": 1.5781477689743042, \"Locations\": \"W_6163\"}, {\"x\": -2.415001153945923, \"y\": 3.7153234481811523, \"Locations\": \"W_6163\"}, {\"x\": -7.532290935516357, \"y\": -2.3428425788879395, \"Locations\": \"W_6163\"}, {\"x\": -6.633754730224609, \"y\": -4.3227410316467285, \"Locations\": \"W_6163\"}, {\"x\": -1.9602715969085693, \"y\": 3.1370890140533447, \"Locations\": \"W_6163\"}, {\"x\": -0.6102054119110107, \"y\": 4.201789855957031, \"Locations\": \"W_6163\"}, {\"x\": 6.274478435516357, \"y\": 7.666747570037842, \"Locations\": \"W_6163\"}, {\"x\": -0.7005485892295837, \"y\": -2.496560573577881, \"Locations\": \"W_6753\"}, {\"x\": 3.2842514514923096, \"y\": 3.902726888656616, \"Locations\": \"W_6753\"}, {\"x\": -8.838386535644531, \"y\": -4.0515594482421875, \"Locations\": \"W_6753\"}, {\"x\": 5.040064811706543, \"y\": 5.2510905265808105, \"Locations\": \"W_6753\"}, {\"x\": -0.8926709890365601, \"y\": -3.153444290161133, \"Locations\": \"W_6753\"}, {\"x\": -1.3979402780532837, \"y\": -1.773646593093872, \"Locations\": \"W_6753\"}, {\"x\": -4.819719314575195, \"y\": -1.0887395143508911, \"Locations\": \"W_6753\"}, {\"x\": 0.2444331794977188, \"y\": -3.4782068729400635, \"Locations\": \"W_6753\"}, {\"x\": 0.48056453466415405, \"y\": -1.2557791471481323, \"Locations\": \"W_6753\"}, {\"x\": -6.795105457305908, \"y\": -2.651390314102173, \"Locations\": \"W_6753\"}, {\"x\": -3.2460663318634033, \"y\": -3.22301983833313, \"Locations\": \"W_6753\"}, {\"x\": -9.109895706176758, \"y\": -3.590287446975708, \"Locations\": \"W_6753\"}, {\"x\": -7.655772686004639, \"y\": -4.247792720794678, \"Locations\": \"W_6753\"}, {\"x\": 3.7057864665985107, \"y\": 5.911566257476807, \"Locations\": \"W_112640\"}, {\"x\": 6.058022975921631, \"y\": 9.453893661499023, \"Locations\": \"W_112640\"}, {\"x\": 2.105944871902466, \"y\": 3.329587459564209, \"Locations\": \"W_112640\"}, {\"x\": 5.237210273742676, \"y\": 8.285562515258789, \"Locations\": \"W_112640\"}, {\"x\": 6.874869346618652, \"y\": 9.128373146057129, \"Locations\": \"W_112640\"}, {\"x\": 6.034034252166748, \"y\": 6.386294364929199, \"Locations\": \"W_112640\"}, {\"x\": 5.075162887573242, \"y\": 8.508933067321777, \"Locations\": \"W_112640\"}, {\"x\": 8.068084716796875, \"y\": 9.343868255615234, \"Locations\": \"W_112640\"}, {\"x\": 3.0809359550476074, \"y\": 5.94029426574707, \"Locations\": \"W_112640\"}, {\"x\": 0.642795979976654, \"y\": 4.135217189788818, \"Locations\": \"W_112640\"}, {\"x\": 7.342189311981201, \"y\": 10.003986358642578, \"Locations\": \"W_112640\"}, {\"x\": 7.544036388397217, \"y\": 9.444554328918457, \"Locations\": \"W_112640\"}, {\"x\": 6.157503128051758, \"y\": 9.167375564575195, \"Locations\": \"W_112640\"}, {\"x\": -1.0663832426071167, \"y\": -1.5626360177993774, \"Locations\": \"W_113724\"}, {\"x\": 3.2761588096618652, \"y\": 4.862743854522705, \"Locations\": \"W_113724\"}, {\"x\": -6.065135478973389, \"y\": -1.8516159057617188, \"Locations\": \"W_113724\"}, {\"x\": -1.6494756937026978, \"y\": -0.6997266411781311, \"Locations\": \"W_113724\"}, {\"x\": 1.8728846311569214, \"y\": 0.02218468487262726, \"Locations\": \"W_113724\"}, {\"x\": -7.725867748260498, \"y\": -4.736276149749756, \"Locations\": \"W_113724\"}, {\"x\": -4.008996963500977, \"y\": -2.823607921600342, \"Locations\": \"W_113724\"}, {\"x\": 0.9770280122756958, \"y\": 1.7198084592819214, \"Locations\": \"W_113724\"}, {\"x\": 2.632084369659424, \"y\": 1.5962352752685547, \"Locations\": \"W_113724\"}, {\"x\": -2.997009515762329, \"y\": 4.255433559417725, \"Locations\": \"W_113724\"}, {\"x\": -5.912842273712158, \"y\": -3.828627586364746, \"Locations\": \"W_113724\"}, {\"x\": -7.606686592102051, \"y\": -5.611422538757324, \"Locations\": \"W_113724\"}, {\"x\": 4.4825615882873535, \"y\": 5.844559669494629, \"Locations\": \"W_113724\"}, {\"x\": 4.502518653869629, \"y\": 8.430026054382324, \"Locations\": \"W_132900\"}, {\"x\": 6.839263439178467, \"y\": 6.568726062774658, \"Locations\": \"W_132900\"}, {\"x\": 6.831228733062744, \"y\": 6.743145942687988, \"Locations\": \"W_132900\"}, {\"x\": -3.996669054031372, \"y\": -4.22810173034668, \"Locations\": \"W_132900\"}, {\"x\": 2.5574707984924316, \"y\": 5.984821796417236, \"Locations\": \"W_132900\"}, {\"x\": 8.188258171081543, \"y\": 9.12804126739502, \"Locations\": \"W_132900\"}, {\"x\": -0.10273375362157822, \"y\": 0.7925124168395996, \"Locations\": \"W_132900\"}, {\"x\": -1.252382755279541, \"y\": -1.1389825344085693, \"Locations\": \"W_132900\"}, {\"x\": 3.3053483963012695, \"y\": 7.539872169494629, \"Locations\": \"W_132900\"}, {\"x\": 5.640714168548584, \"y\": 7.320316314697266, \"Locations\": \"W_132900\"}, {\"x\": -0.39537471532821655, \"y\": -0.6507107019424438, \"Locations\": \"W_132900\"}, {\"x\": -6.874176502227783, \"y\": -3.687166452407837, \"Locations\": \"W_132900\"}, {\"x\": 6.144657135009766, \"y\": 8.502525329589844, \"Locations\": \"W_132900\"}, {\"x\": -0.5739998817443848, \"y\": 1.8913060426712036, \"Locations\": \"W_145365\"}, {\"x\": -0.5131851434707642, \"y\": 4.56030797958374, \"Locations\": \"W_145365\"}, {\"x\": 2.85205078125, \"y\": 6.9458088874816895, \"Locations\": \"W_145365\"}, {\"x\": 4.898373603820801, \"y\": 7.000515937805176, \"Locations\": \"W_145365\"}, {\"x\": -2.6937403678894043, \"y\": 1.0952389240264893, \"Locations\": \"W_145365\"}, {\"x\": -4.794201374053955, \"y\": -0.4518398344516754, \"Locations\": \"W_145365\"}, {\"x\": 0.9947459697723389, \"y\": 6.877060890197754, \"Locations\": \"W_145365\"}, {\"x\": 3.0791709423065186, \"y\": 8.579360008239746, \"Locations\": \"W_145365\"}, {\"x\": -1.8567836284637451, \"y\": 3.915951728820801, \"Locations\": \"W_145365\"}, {\"x\": -5.966377258300781, \"y\": -0.48176053166389465, \"Locations\": \"W_145365\"}, {\"x\": -1.1639528274536133, \"y\": 0.3875204622745514, \"Locations\": \"W_145365\"}, {\"x\": -1.1790317296981812, \"y\": 4.287290096282959, \"Locations\": \"W_145365\"}, {\"x\": -3.7211718559265137, \"y\": 0.7551409602165222, \"Locations\": \"W_145365\"}]}}, {\"mode\": \"vega-lite\"});\n",
       "</script>"
      ],
      "text/plain": [
       "alt.Chart(...)"
      ]
     },
     "metadata": {},
     "output_type": "display_data"
    }
   ],
   "source": [
    "#altair\n",
    "import vega\n",
    "import altair as alt\n",
    "import pandas as pd\n",
    "\n",
    "x_axis = []\n",
    "y_axis = []\n",
    "\n",
    "for i in range(len(X2)):\n",
    "    x_axis.append(X2[i][0])\n",
    "    y_axis.append(X2[i][1])\n",
    "    \n",
    "print(len(x_axis))\n",
    "print(len(y_axis))\n",
    "print((y))\n",
    "    \n",
    "df1 = pd.DataFrame({'x': np.asarray(x_axis), 'y': np.asarray(y_axis), 'Locations': np.asarray(y)})\n",
    "viz1 = alt.Chart(df1).mark_circle(opacity=0.6, size=60).encode(x='x', y='y', color='Locations').interactive()\n",
    "display(viz1)"
   ]
  },
  {
   "cell_type": "markdown",
   "metadata": {},
   "source": [
    "### Hierarchical decomposition"
   ]
  },
  {
   "cell_type": "code",
   "execution_count": 42,
   "metadata": {},
   "outputs": [
    {
     "name": "stderr",
     "output_type": "stream",
     "text": [
      "IOPub data rate exceeded.\n",
      "The notebook server will temporarily stop sending output\n",
      "to the client in order to avoid crashing it.\n",
      "To change this limit, set the config variable\n",
      "`--NotebookApp.iopub_data_rate_limit`.\n",
      "\n",
      "Current values:\n",
      "NotebookApp.iopub_data_rate_limit=1000000.0 (bytes/sec)\n",
      "NotebookApp.rate_limit_window=3.0 (secs)\n",
      "\n"
     ]
    }
   ],
   "source": [
    "all_flat_set = []\n",
    "for distset in all_distset:\n",
    "    flat_set = []\n",
    "    for indivset in distset:\n",
    "        flat = indivset.flatten()\n",
    "        flat_set += flat.tolist()\n",
    "    all_flat_set.append(flat_set)\n",
    "print(len(all_flat_set))"
   ]
  },
  {
   "cell_type": "code",
   "execution_count": 49,
   "metadata": {},
   "outputs": [],
   "source": [
    "from sklearn.manifold import TSNE\n",
    "X3 = TSNE(n_components=2).fit_transform(all_flat_set)"
   ]
  },
  {
   "cell_type": "code",
   "execution_count": 50,
   "metadata": {},
   "outputs": [
    {
     "name": "stdout",
     "output_type": "stream",
     "text": [
      "130\n",
      "130\n",
      "['W_3964', 'W_3964', 'W_3964', 'W_3964', 'W_3964', 'W_3964', 'W_3964', 'W_3964', 'W_3964', 'W_3964', 'W_3964', 'W_3964', 'W_3964', 'W_144354', 'W_144354', 'W_144354', 'W_144354', 'W_144354', 'W_144354', 'W_144354', 'W_144354', 'W_144354', 'W_144354', 'W_144354', 'W_144354', 'W_144354', 'W_8339', 'W_8339', 'W_8339', 'W_8339', 'W_8339', 'W_8339', 'W_8339', 'W_8339', 'W_8339', 'W_8339', 'W_8339', 'W_8339', 'W_8339', 'W_12542', 'W_12542', 'W_12542', 'W_12542', 'W_12542', 'W_12542', 'W_12542', 'W_12542', 'W_12542', 'W_12542', 'W_12542', 'W_12542', 'W_12542', 'W_6163', 'W_6163', 'W_6163', 'W_6163', 'W_6163', 'W_6163', 'W_6163', 'W_6163', 'W_6163', 'W_6163', 'W_6163', 'W_6163', 'W_6163', 'W_6753', 'W_6753', 'W_6753', 'W_6753', 'W_6753', 'W_6753', 'W_6753', 'W_6753', 'W_6753', 'W_6753', 'W_6753', 'W_6753', 'W_6753', 'W_112640', 'W_112640', 'W_112640', 'W_112640', 'W_112640', 'W_112640', 'W_112640', 'W_112640', 'W_112640', 'W_112640', 'W_112640', 'W_112640', 'W_112640', 'W_113724', 'W_113724', 'W_113724', 'W_113724', 'W_113724', 'W_113724', 'W_113724', 'W_113724', 'W_113724', 'W_113724', 'W_113724', 'W_113724', 'W_113724', 'W_132900', 'W_132900', 'W_132900', 'W_132900', 'W_132900', 'W_132900', 'W_132900', 'W_132900', 'W_132900', 'W_132900', 'W_132900', 'W_132900', 'W_132900', 'W_145365', 'W_145365', 'W_145365', 'W_145365', 'W_145365', 'W_145365', 'W_145365', 'W_145365', 'W_145365', 'W_145365', 'W_145365', 'W_145365', 'W_145365']\n"
     ]
    },
    {
     "data": {
      "text/html": [
       "\n",
       "<div id=\"altair-viz-5ebdec2244c544a88439fe16d066b1d5\"></div>\n",
       "<script type=\"text/javascript\">\n",
       "  (function(spec, embedOpt){\n",
       "    let outputDiv = document.currentScript.previousElementSibling;\n",
       "    if (outputDiv.id !== \"altair-viz-5ebdec2244c544a88439fe16d066b1d5\") {\n",
       "      outputDiv = document.getElementById(\"altair-viz-5ebdec2244c544a88439fe16d066b1d5\");\n",
       "    }\n",
       "    const paths = {\n",
       "      \"vega\": \"https://cdn.jsdelivr.net/npm//vega@5?noext\",\n",
       "      \"vega-lib\": \"https://cdn.jsdelivr.net/npm//vega-lib?noext\",\n",
       "      \"vega-lite\": \"https://cdn.jsdelivr.net/npm//vega-lite@4.8.1?noext\",\n",
       "      \"vega-embed\": \"https://cdn.jsdelivr.net/npm//vega-embed@6?noext\",\n",
       "    };\n",
       "\n",
       "    function loadScript(lib) {\n",
       "      return new Promise(function(resolve, reject) {\n",
       "        var s = document.createElement('script');\n",
       "        s.src = paths[lib];\n",
       "        s.async = true;\n",
       "        s.onload = () => resolve(paths[lib]);\n",
       "        s.onerror = () => reject(`Error loading script: ${paths[lib]}`);\n",
       "        document.getElementsByTagName(\"head\")[0].appendChild(s);\n",
       "      });\n",
       "    }\n",
       "\n",
       "    function showError(err) {\n",
       "      outputDiv.innerHTML = `<div class=\"error\" style=\"color:red;\">${err}</div>`;\n",
       "      throw err;\n",
       "    }\n",
       "\n",
       "    function displayChart(vegaEmbed) {\n",
       "      vegaEmbed(outputDiv, spec, embedOpt)\n",
       "        .catch(err => showError(`Javascript Error: ${err.message}<br>This usually means there's a typo in your chart specification. See the javascript console for the full traceback.`));\n",
       "    }\n",
       "\n",
       "    if(typeof define === \"function\" && define.amd) {\n",
       "      requirejs.config({paths});\n",
       "      require([\"vega-embed\"], displayChart, err => showError(`Error loading script: ${err.message}`));\n",
       "    } else if (typeof vegaEmbed === \"function\") {\n",
       "      displayChart(vegaEmbed);\n",
       "    } else {\n",
       "      loadScript(\"vega\")\n",
       "        .then(() => loadScript(\"vega-lite\"))\n",
       "        .then(() => loadScript(\"vega-embed\"))\n",
       "        .catch(showError)\n",
       "        .then(() => displayChart(vegaEmbed));\n",
       "    }\n",
       "  })({\"config\": {\"view\": {\"continuousWidth\": 400, \"continuousHeight\": 300}}, \"data\": {\"name\": \"data-a8a2f6a5bc57e2b5ec2f5f74be9e5213\"}, \"mark\": {\"type\": \"circle\", \"opacity\": 0.6, \"size\": 60}, \"encoding\": {\"color\": {\"type\": \"nominal\", \"field\": \"Locations\"}, \"x\": {\"type\": \"quantitative\", \"field\": \"x\"}, \"y\": {\"type\": \"quantitative\", \"field\": \"y\"}}, \"selection\": {\"selector004\": {\"type\": \"interval\", \"bind\": \"scales\", \"encodings\": [\"x\", \"y\"]}}, \"$schema\": \"https://vega.github.io/schema/vega-lite/v4.8.1.json\", \"datasets\": {\"data-a8a2f6a5bc57e2b5ec2f5f74be9e5213\": [{\"x\": -8.493809700012207, \"y\": 0.19533087313175201, \"Locations\": \"W_3964\"}, {\"x\": -5.99257755279541, \"y\": -1.9452275037765503, \"Locations\": \"W_3964\"}, {\"x\": -2.8029587268829346, \"y\": -6.063884735107422, \"Locations\": \"W_3964\"}, {\"x\": 5.107054233551025, \"y\": 8.924190521240234, \"Locations\": \"W_3964\"}, {\"x\": -8.482885360717773, \"y\": -0.28538617491722107, \"Locations\": \"W_3964\"}, {\"x\": -7.010169506072998, \"y\": -2.3807532787323, \"Locations\": \"W_3964\"}, {\"x\": -3.7567615509033203, \"y\": -7.692411422729492, \"Locations\": \"W_3964\"}, {\"x\": -1.4946966171264648, \"y\": -7.654993057250977, \"Locations\": \"W_3964\"}, {\"x\": -5.747364521026611, \"y\": -3.0633645057678223, \"Locations\": \"W_3964\"}, {\"x\": -1.641114354133606, \"y\": -2.327571153640747, \"Locations\": \"W_3964\"}, {\"x\": -5.061676502227783, \"y\": -2.159937858581543, \"Locations\": \"W_3964\"}, {\"x\": 5.3394775390625, \"y\": -4.247531414031982, \"Locations\": \"W_3964\"}, {\"x\": -7.553171634674072, \"y\": 1.1478320360183716, \"Locations\": \"W_3964\"}, {\"x\": -11.342413902282715, \"y\": -5.861878871917725, \"Locations\": \"W_144354\"}, {\"x\": 6.277384281158447, \"y\": -1.727791428565979, \"Locations\": \"W_144354\"}, {\"x\": 10.063735961914062, \"y\": -2.6560702323913574, \"Locations\": \"W_144354\"}, {\"x\": 2.960965156555176, \"y\": -10.048041343688965, \"Locations\": \"W_144354\"}, {\"x\": 10.87837028503418, \"y\": -4.203068256378174, \"Locations\": \"W_144354\"}, {\"x\": -5.403133392333984, \"y\": -6.570569038391113, \"Locations\": \"W_144354\"}, {\"x\": -8.243057250976562, \"y\": 2.8439602851867676, \"Locations\": \"W_144354\"}, {\"x\": 6.990230083465576, \"y\": -5.711627960205078, \"Locations\": \"W_144354\"}, {\"x\": -10.582366943359375, \"y\": -5.425302982330322, \"Locations\": \"W_144354\"}, {\"x\": -8.640532493591309, \"y\": -3.9767119884490967, \"Locations\": \"W_144354\"}, {\"x\": -7.7687883377075195, \"y\": -6.217104911804199, \"Locations\": \"W_144354\"}, {\"x\": -7.854272842407227, \"y\": -4.025747299194336, \"Locations\": \"W_144354\"}, {\"x\": -5.696817398071289, \"y\": 4.644757270812988, \"Locations\": \"W_144354\"}, {\"x\": 3.863335132598877, \"y\": 5.560415267944336, \"Locations\": \"W_8339\"}, {\"x\": 5.151197910308838, \"y\": 6.5487060546875, \"Locations\": \"W_8339\"}, {\"x\": 9.691020011901855, \"y\": 4.46674919128418, \"Locations\": \"W_8339\"}, {\"x\": 3.5172202587127686, \"y\": 7.536592483520508, \"Locations\": \"W_8339\"}, {\"x\": 2.9476354122161865, \"y\": 8.452929496765137, \"Locations\": \"W_8339\"}, {\"x\": 10.147117614746094, \"y\": 3.816392421722412, \"Locations\": \"W_8339\"}, {\"x\": 3.3397483825683594, \"y\": 6.870568752288818, \"Locations\": \"W_8339\"}, {\"x\": 1.5205137729644775, \"y\": 7.590365409851074, \"Locations\": \"W_8339\"}, {\"x\": 4.226443290710449, \"y\": 7.784279823303223, \"Locations\": \"W_8339\"}, {\"x\": -2.9231927394866943, \"y\": 3.7929391860961914, \"Locations\": \"W_8339\"}, {\"x\": -2.833683490753174, \"y\": 4.4521050453186035, \"Locations\": \"W_8339\"}, {\"x\": -2.38710880279541, \"y\": 4.173951625823975, \"Locations\": \"W_8339\"}, {\"x\": 5.475671768188477, \"y\": 6.651795864105225, \"Locations\": \"W_8339\"}, {\"x\": 2.5880167484283447, \"y\": 4.001150131225586, \"Locations\": \"W_12542\"}, {\"x\": -6.010534286499023, \"y\": 7.711228847503662, \"Locations\": \"W_12542\"}, {\"x\": 3.80326771736145, \"y\": 2.949495792388916, \"Locations\": \"W_12542\"}, {\"x\": 4.529338359832764, \"y\": 2.9891741275787354, \"Locations\": \"W_12542\"}, {\"x\": -9.09419059753418, \"y\": 4.405696392059326, \"Locations\": \"W_12542\"}, {\"x\": 2.121206760406494, \"y\": -2.735187292098999, \"Locations\": \"W_12542\"}, {\"x\": 7.5490403175354, \"y\": 2.7794649600982666, \"Locations\": \"W_12542\"}, {\"x\": 6.4404425621032715, \"y\": 4.304183006286621, \"Locations\": \"W_12542\"}, {\"x\": 3.226287603378296, \"y\": 3.1630706787109375, \"Locations\": \"W_12542\"}, {\"x\": -1.042765498161316, \"y\": 6.003100395202637, \"Locations\": \"W_12542\"}, {\"x\": 7.336900234222412, \"y\": 0.9752988815307617, \"Locations\": \"W_12542\"}, {\"x\": 4.513341903686523, \"y\": 1.9539448022842407, \"Locations\": \"W_12542\"}, {\"x\": -1.4732083082199097, \"y\": 5.205377578735352, \"Locations\": \"W_12542\"}, {\"x\": -0.7156580686569214, \"y\": 8.790541648864746, \"Locations\": \"W_6163\"}, {\"x\": -1.7309844493865967, \"y\": 9.547921180725098, \"Locations\": \"W_6163\"}, {\"x\": -6.717115879058838, \"y\": 1.7446142435073853, \"Locations\": \"W_6163\"}, {\"x\": 10.087604522705078, \"y\": 3.8144445419311523, \"Locations\": \"W_6163\"}, {\"x\": -3.986846446990967, \"y\": 0.8167581558227539, \"Locations\": \"W_6163\"}, {\"x\": 11.102099418640137, \"y\": -0.5076078772544861, \"Locations\": \"W_6163\"}, {\"x\": -2.015209436416626, \"y\": -5.536418437957764, \"Locations\": \"W_6163\"}, {\"x\": -4.053371906280518, \"y\": -10.432426452636719, \"Locations\": \"W_6163\"}, {\"x\": 8.491220474243164, \"y\": -4.967319965362549, \"Locations\": \"W_6163\"}, {\"x\": 7.372150421142578, \"y\": -6.919587135314941, \"Locations\": \"W_6163\"}, {\"x\": -3.683765411376953, \"y\": 7.510473251342773, \"Locations\": \"W_6163\"}, {\"x\": -8.462713241577148, \"y\": 4.236780166625977, \"Locations\": \"W_6163\"}, {\"x\": -1.7523021697998047, \"y\": 9.827128410339355, \"Locations\": \"W_6163\"}, {\"x\": -4.940265655517578, \"y\": -4.7787628173828125, \"Locations\": \"W_6753\"}, {\"x\": -0.17519286274909973, \"y\": 1.6606760025024414, \"Locations\": \"W_6753\"}, {\"x\": -8.941024780273438, \"y\": -9.577194213867188, \"Locations\": \"W_6753\"}, {\"x\": -4.371431827545166, \"y\": 2.004082679748535, \"Locations\": \"W_6753\"}, {\"x\": -6.9974565505981445, \"y\": -10.887474060058594, \"Locations\": \"W_6753\"}, {\"x\": 0.36841368675231934, \"y\": -3.346839427947998, \"Locations\": \"W_6753\"}, {\"x\": -3.8903918266296387, \"y\": -12.207608222961426, \"Locations\": \"W_6753\"}, {\"x\": 9.850425720214844, \"y\": -2.367259979248047, \"Locations\": \"W_6753\"}, {\"x\": -4.184866905212402, \"y\": -10.41473388671875, \"Locations\": \"W_6753\"}, {\"x\": -5.860430717468262, \"y\": -5.991090774536133, \"Locations\": \"W_6753\"}, {\"x\": -1.9382562637329102, \"y\": -10.565444946289062, \"Locations\": \"W_6753\"}, {\"x\": 0.9494118690490723, \"y\": 3.1566507816314697, \"Locations\": \"W_6753\"}, {\"x\": 6.955642223358154, \"y\": -5.133695602416992, \"Locations\": \"W_6753\"}, {\"x\": -0.9317529797554016, \"y\": -0.2277735024690628, \"Locations\": \"W_112640\"}, {\"x\": -0.7975615859031677, \"y\": 2.1479198932647705, \"Locations\": \"W_112640\"}, {\"x\": 9.278751373291016, \"y\": -1.5893467664718628, \"Locations\": \"W_112640\"}, {\"x\": -1.78007173538208, \"y\": 1.3274282217025757, \"Locations\": \"W_112640\"}, {\"x\": -2.213737726211548, \"y\": 2.826291799545288, \"Locations\": \"W_112640\"}, {\"x\": 8.099944114685059, \"y\": -0.9754729866981506, \"Locations\": \"W_112640\"}, {\"x\": 3.6453914642333984, \"y\": 5.149542331695557, \"Locations\": \"W_112640\"}, {\"x\": 2.640113592147827, \"y\": 6.206595420837402, \"Locations\": \"W_112640\"}, {\"x\": -0.4697064459323883, \"y\": -0.5324265956878662, \"Locations\": \"W_112640\"}, {\"x\": -1.7168041467666626, \"y\": -11.772490501403809, \"Locations\": \"W_112640\"}, {\"x\": -1.889691948890686, \"y\": 0.28687286376953125, \"Locations\": \"W_112640\"}, {\"x\": -1.8954240083694458, \"y\": 1.5767019987106323, \"Locations\": \"W_112640\"}, {\"x\": -0.04423879459500313, \"y\": -1.9150184392929077, \"Locations\": \"W_112640\"}, {\"x\": -4.051794528961182, \"y\": -0.316327303647995, \"Locations\": \"W_113724\"}, {\"x\": 0.2994990646839142, \"y\": -5.850646018981934, \"Locations\": \"W_113724\"}, {\"x\": 6.276381969451904, \"y\": 5.088029384613037, \"Locations\": \"W_113724\"}, {\"x\": -8.060639381408691, \"y\": -7.892559051513672, \"Locations\": \"W_113724\"}, {\"x\": -2.6791508197784424, \"y\": -9.717153549194336, \"Locations\": \"W_113724\"}, {\"x\": -7.779262065887451, \"y\": -7.909758567810059, \"Locations\": \"W_113724\"}, {\"x\": -5.293388843536377, \"y\": 0.13519373536109924, \"Locations\": \"W_113724\"}, {\"x\": -9.947976112365723, \"y\": -0.10804029554128647, \"Locations\": \"W_113724\"}, {\"x\": 3.4113876819610596, \"y\": -0.16564396023750305, \"Locations\": \"W_113724\"}, {\"x\": 8.331119537353516, \"y\": 6.542463779449463, \"Locations\": \"W_113724\"}, {\"x\": -6.535553932189941, \"y\": -3.7173385620117188, \"Locations\": \"W_113724\"}, {\"x\": -11.759992599487305, \"y\": -2.836815595626831, \"Locations\": \"W_113724\"}, {\"x\": -9.017693519592285, \"y\": -7.822713375091553, \"Locations\": \"W_113724\"}, {\"x\": 1.0845528841018677, \"y\": 0.9558461904525757, \"Locations\": \"W_132900\"}, {\"x\": 7.145206451416016, \"y\": -0.3407760560512543, \"Locations\": \"W_132900\"}, {\"x\": 7.671228885650635, \"y\": -0.37730810046195984, \"Locations\": \"W_132900\"}, {\"x\": 7.330548286437988, \"y\": -2.7198433876037598, \"Locations\": \"W_132900\"}, {\"x\": -6.546853542327881, \"y\": -8.554647445678711, \"Locations\": \"W_132900\"}, {\"x\": -5.970197677612305, \"y\": 4.3265061378479, \"Locations\": \"W_132900\"}, {\"x\": 5.573125839233398, \"y\": -6.2578206062316895, \"Locations\": \"W_132900\"}, {\"x\": 1.3332360982894897, \"y\": -0.37219783663749695, \"Locations\": \"W_132900\"}, {\"x\": -6.305685997009277, \"y\": 6.812536239624023, \"Locations\": \"W_132900\"}, {\"x\": -1.3594002723693848, \"y\": -1.863970398902893, \"Locations\": \"W_132900\"}, {\"x\": -2.7253894805908203, \"y\": 6.9543681144714355, \"Locations\": \"W_132900\"}, {\"x\": -0.5250013470649719, \"y\": -8.10741901397705, \"Locations\": \"W_132900\"}, {\"x\": 8.829834938049316, \"y\": 0.9027969837188721, \"Locations\": \"W_132900\"}, {\"x\": -2.808640241622925, \"y\": -3.8942432403564453, \"Locations\": \"W_145365\"}, {\"x\": 2.697591543197632, \"y\": -4.882020473480225, \"Locations\": \"W_145365\"}, {\"x\": -5.063573360443115, \"y\": 5.416975498199463, \"Locations\": \"W_145365\"}, {\"x\": 3.270002841949463, \"y\": -4.533027648925781, \"Locations\": \"W_145365\"}, {\"x\": 3.910418748855591, \"y\": -4.625823974609375, \"Locations\": \"W_145365\"}, {\"x\": 2.5707650184631348, \"y\": -5.483893871307373, \"Locations\": \"W_145365\"}, {\"x\": -1.129907250404358, \"y\": -3.7993147373199463, \"Locations\": \"W_145365\"}, {\"x\": -0.5920040607452393, \"y\": -4.02783727645874, \"Locations\": \"W_145365\"}, {\"x\": 0.8632871508598328, \"y\": 4.741122245788574, \"Locations\": \"W_145365\"}, {\"x\": -5.863245487213135, \"y\": -4.378194808959961, \"Locations\": \"W_145365\"}, {\"x\": 5.422601222991943, \"y\": -3.2687973976135254, \"Locations\": \"W_145365\"}, {\"x\": -3.7365875244140625, \"y\": -3.508329391479492, \"Locations\": \"W_145365\"}, {\"x\": -3.335326671600342, \"y\": -2.4851527214050293, \"Locations\": \"W_145365\"}]}}, {\"mode\": \"vega-lite\"});\n",
       "</script>"
      ],
      "text/plain": [
       "alt.Chart(...)"
      ]
     },
     "metadata": {},
     "output_type": "display_data"
    }
   ],
   "source": [
    "#altair\n",
    "import vega\n",
    "import altair as alt\n",
    "import pandas as pd\n",
    "\n",
    "x3_axis = []\n",
    "y3_axis = []\n",
    "\n",
    "for i in range(len(X3)):\n",
    "    x3_axis.append(X3[i][0])\n",
    "    y3_axis.append(X3[i][1])\n",
    "    \n",
    "print(len(x3_axis))\n",
    "print(len(y3_axis))\n",
    "print((y))\n",
    "    \n",
    "df2 = pd.DataFrame({'x': np.asarray(x3_axis), 'y': np.asarray(y3_axis), 'Locations': np.asarray(y)})\n",
    "viz2 = alt.Chart(df2).mark_circle(opacity=0.6, size=60).encode(x='x', y='y', color='Locations').interactive()\n",
    "display(viz2)"
   ]
  },
  {
   "cell_type": "code",
   "execution_count": null,
   "metadata": {},
   "outputs": [],
   "source": []
  }
 ],
 "metadata": {
  "kernelspec": {
   "display_name": "Python 3",
   "language": "python",
   "name": "python3"
  }
 },
 "nbformat": 4,
 "nbformat_minor": 2
}
