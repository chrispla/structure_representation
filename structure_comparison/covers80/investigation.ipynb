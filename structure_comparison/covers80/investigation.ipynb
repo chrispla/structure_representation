{
 "metadata": {
  "language_info": {
   "codemirror_mode": {
    "name": "ipython",
    "version": 3
   },
   "file_extension": ".py",
   "mimetype": "text/x-python",
   "name": "python",
   "nbconvert_exporter": "python",
   "pygments_lexer": "ipython3",
   "version": "3.8.5"
  },
  "orig_nbformat": 2,
  "kernelspec": {
   "name": "python3",
   "display_name": "Python 3",
   "language": "python"
  }
 },
 "nbformat": 4,
 "nbformat_minor": 2,
 "cells": [
  {
   "cell_type": "code",
   "execution_count": 2,
   "metadata": {},
   "outputs": [],
   "source": [
    "#Importing\n",
    "import librosa\n",
    "import numpy as np\n",
    "import scipy\n",
    "from scipy.spatial.distance import pdist, squareform\n",
    "from scipy.interpolate import interp2d\n",
    "from scipy.sparse.csgraph import laplacian\n",
    "from scipy.spatial.distance import directed_hausdorff\n",
    "from scipy.cluster import hierarchy\n",
    "from scipy.linalg import eigh\n",
    "from scipy.ndimage import median_filter\n",
    "import cv2\n",
    "from sklearn import metrics\n",
    "import dill\n",
    "import sys\n",
    "import glob\n",
    "import os\n",
    "import random\n",
    "\n",
    "#change matplotlib backend to save rendered plots correctly on linux \n",
    "import matplotlib as mpl\n",
    "mpl.use('Agg')\n",
    "from matplotlib import pyplot as plt\n",
    "\n",
    "# #--supress warnings--#\n",
    "# import warnings\n",
    "# warnings.filterwarnings(\"ignore\")"
   ]
  },
  {
   "cell_type": "code",
   "execution_count": 3,
   "metadata": {},
   "outputs": [],
   "source": [
    "dill.load_session('/home/ismir/Documents/ISMIR/dills/all_covers80_run2.db')"
   ]
  },
  {
   "cell_type": "code",
   "execution_count": null,
   "metadata": {},
   "outputs": [],
   "source": []
  }
 ]
}