{
 "cells": [
  {
   "cell_type": "markdown",
   "metadata": {},
   "source": [
    "# Low-rank approximations for music structure representation and similarity"
   ]
  },
  {
   "cell_type": "markdown",
   "metadata": {},
   "source": [
    "### Library importing"
   ]
  },
  {
   "cell_type": "code",
   "execution_count": 1,
   "metadata": {},
   "outputs": [],
   "source": [
    "from scipy.spatial.distance import pdist, squareform\n",
    "from scipy.interpolate import interp2d\n",
    "from scipy.sparse.csgraph import laplacian\n",
    "from scipy.spatial.distance import directed_hausdorff\n",
    "from scipy.cluster import hierarchy\n",
    "from scipy.linalg import eigh\n",
    "from scipy.ndimage import median_filter\n",
    "import numpy as np\n",
    "import cv2\n",
    "from seaborn import clustermap\n",
    "import sklearn\n",
    "import librosa\n",
    "import dill\n",
    "import sys\n",
    "import glob\n",
    "import os\n",
    "import random\n",
    "import json\n",
    "import deepdish as dd\n",
    "import matplotlib.pyplot as plt\n",
    "%matplotlib inline"
   ]
  },
  {
   "cell_type": "markdown",
   "metadata": {},
   "source": [
    "### Dill session"
   ]
  },
  {
   "cell_type": "code",
   "execution_count": null,
   "metadata": {},
   "outputs": [],
   "source": [
    "dill.dump_session('set.db')"
   ]
  },
  {
   "cell_type": "code",
   "execution_count": null,
   "metadata": {},
   "outputs": [],
   "source": [
    "dill.load('shapeset.db')"
   ]
  },
  {
   "cell_type": "markdown",
   "metadata": {},
   "source": [
    "### Load and compute set of approximation matrices for Da-TACOS"
   ]
  },
  {
   "cell_type": "code",
   "execution_count": 12,
   "metadata": {},
   "outputs": [
    {
     "name": "stdout",
     "output_type": "stream",
     "text": [
      "Loading 10/100 works.\n",
      "Loaded Da-TACOS SMMs.\n",
      "Data shape: (50, 8, 256, 256)\n"
     ]
    }
   ],
   "source": [
    "resample_dim = 256 #side size to which to resample Laplacian\n",
    "kmin = 2 #min components for approximation (>=2)\n",
    "kmax = 10 #max component for approximation\n",
    "\n",
    "with open('./da-tacos_metadata/da-tacos_benchmark_subset_metadata.json') as f:\n",
    "    benchmark_metadata = json.load(f)\n",
    "count = 0\n",
    "W_count=0\n",
    "P_count = 0\n",
    "all_sets = []\n",
    "all_WP = []\n",
    "y = []\n",
    "for W in benchmark_metadata.keys():\n",
    "    if len(benchmark_metadata[W].keys()) > 4: #if it contains at least 5 covers\n",
    "        P_count = 0\n",
    "        for P in benchmark_metadata[W].keys():\n",
    "            P_count += 1\n",
    "            \n",
    "            #Computations\n",
    "            try:\n",
    "                SSM = dd.io.load(\"./da-tacosSSMs/StructureLaplacian_datacos_crema_\" + P + \".h5\")['WFused']\n",
    "            except:\n",
    "                print(\"Couldn't load \" + P + \".\")\n",
    "                continue\n",
    "\n",
    "            N = dd.io.load(\"./da-tacosSSMs/StructureLaplacian_datacos_crema_\" + P + \".h5\")['N']\n",
    "\n",
    "            #Construct square matrix from flattened upper triangle\n",
    "            A = np.zeros((N,N))\n",
    "            iN = np.triu_indices(N) #return indices for upper-triangle of (N,N) matrix\n",
    "            for i in range(len(SSM)):\n",
    "                A[iN[0][i]][iN[1][i]] = SSM[i]\n",
    "            B = np.transpose(A)\n",
    "            square_SSM = A+B\n",
    "\n",
    "            #Resample\n",
    "            Xindex = np.linspace(0, 1, num=N)\n",
    "            f = interp2d(Xindex, Xindex, square_SSM.flatten(), kind='linear')\n",
    "            Xindex_ds = np.linspace(0, 1, num=resample_dim)\n",
    "            SSM_ds = np.reshape(f(Xindex_ds, Xindex_ds), (resample_dim,resample_dim))\n",
    "\n",
    "            #Compute the Laplacian\n",
    "            L = laplacian(SSM_ds, normed=True)\n",
    "\n",
    "            #Laplacian eigenvalues and eigenvectors\n",
    "            evals, evecs = eigh(L)\n",
    "\n",
    "            ##Shape DNA\n",
    "            #shapeDNA = evals[:30]\n",
    "            #all_shapeDNA.append(shapeDNA)\n",
    "\n",
    "            #Hierarchical structure\n",
    "            evecs = median_filter(evecs, size=(9, 1))\n",
    "            Cnorm = np.cumsum(evecs**2, axis=1)**0.5\n",
    "            dist_set = []\n",
    "            for k in range(kmin, kmax):\n",
    "                X = evecs[:, :k] / Cnorm[:, k-1:k]\n",
    "                distance = squareform(pdist(X, metric='euclidean'))\n",
    "                dist_set.append(distance)\n",
    "\n",
    "            all_sets.append(dist_set)\n",
    "            y.append(W)\n",
    "\n",
    "            #append W and P\n",
    "            all_WP.append([W, P])\n",
    "\n",
    "            #plt.matshow()\n",
    "            #plt.colorbar()\n",
    "            #plt.show()\n",
    "\n",
    "            if (P_count >=5):\n",
    "                break\n",
    "                \n",
    "        W_count +=1\n",
    "        sys.stdout.write(\"\\rLoading %i/100 works.\" % W_count)\n",
    "        sys.stdout.flush()\n",
    "        if (W_count >= 10):\n",
    "            break\n",
    "            \n",
    "all_sets = np.asarray(all_sets)\n",
    "\n",
    "print(\"\\nLoaded Da-TACOS SMMs.\")\n",
    "print(\"Data shape:\", all_sets.shape)"
   ]
  },
  {
   "cell_type": "code",
   "execution_count": null,
   "metadata": {},
   "outputs": [],
   "source": []
  }
 ],
 "metadata": {
  "kernelspec": {
   "display_name": "Python 3",
   "language": "python",
   "name": "python3"
  },
  "language_info": {
   "codemirror_mode": {
    "name": "ipython",
    "version": 3
   },
   "file_extension": ".py",
   "mimetype": "text/x-python",
   "name": "python",
   "nbconvert_exporter": "python",
   "pygments_lexer": "ipython3",
   "version": "3.7.6"
  }
 },
 "nbformat": 4,
 "nbformat_minor": 4
}
